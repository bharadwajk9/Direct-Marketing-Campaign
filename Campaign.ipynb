{
 "cells": [
  {
   "cell_type": "code",
   "execution_count": 3,
   "metadata": {
    "colab": {
     "autoexec": {
      "startup": false,
      "wait_interval": 0
     }
    },
    "colab_type": "code",
    "id": "FHrE1_FNfl3S"
   },
   "outputs": [],
   "source": [
    "import pandas as pd\n",
    "import numpy as np\n",
    "from sklearn.model_selection import train_test_split\n",
    "from sklearn.metrics import accuracy_score, confusion_matrix , precision_score , recall_score , roc_auc_score\n",
    "\n",
    "bank = pd.read_csv(\"/Users/utkarshbharadwaj/Downloads/Projects/Campaign/bank-additional/bank-additional-full.csv\", delimiter=';')"
   ]
  },
  {
   "cell_type": "code",
   "execution_count": 4,
   "metadata": {},
   "outputs": [
    {
     "data": {
      "text/html": [
       "<div>\n",
       "<style scoped>\n",
       "    .dataframe tbody tr th:only-of-type {\n",
       "        vertical-align: middle;\n",
       "    }\n",
       "\n",
       "    .dataframe tbody tr th {\n",
       "        vertical-align: top;\n",
       "    }\n",
       "\n",
       "    .dataframe thead th {\n",
       "        text-align: right;\n",
       "    }\n",
       "</style>\n",
       "<table border=\"1\" class=\"dataframe\">\n",
       "  <thead>\n",
       "    <tr style=\"text-align: right;\">\n",
       "      <th></th>\n",
       "      <th>age</th>\n",
       "      <th>job</th>\n",
       "      <th>marital</th>\n",
       "      <th>education</th>\n",
       "      <th>default</th>\n",
       "      <th>housing</th>\n",
       "      <th>loan</th>\n",
       "      <th>contact</th>\n",
       "      <th>month</th>\n",
       "      <th>day_of_week</th>\n",
       "      <th>...</th>\n",
       "      <th>campaign</th>\n",
       "      <th>pdays</th>\n",
       "      <th>previous</th>\n",
       "      <th>poutcome</th>\n",
       "      <th>emp.var.rate</th>\n",
       "      <th>cons.price.idx</th>\n",
       "      <th>cons.conf.idx</th>\n",
       "      <th>euribor3m</th>\n",
       "      <th>nr.employed</th>\n",
       "      <th>y</th>\n",
       "    </tr>\n",
       "  </thead>\n",
       "  <tbody>\n",
       "    <tr>\n",
       "      <th>0</th>\n",
       "      <td>56</td>\n",
       "      <td>housemaid</td>\n",
       "      <td>married</td>\n",
       "      <td>basic.4y</td>\n",
       "      <td>no</td>\n",
       "      <td>no</td>\n",
       "      <td>no</td>\n",
       "      <td>telephone</td>\n",
       "      <td>may</td>\n",
       "      <td>mon</td>\n",
       "      <td>...</td>\n",
       "      <td>1</td>\n",
       "      <td>999</td>\n",
       "      <td>0</td>\n",
       "      <td>nonexistent</td>\n",
       "      <td>1.1</td>\n",
       "      <td>93.994</td>\n",
       "      <td>-36.4</td>\n",
       "      <td>4.857</td>\n",
       "      <td>5191.0</td>\n",
       "      <td>no</td>\n",
       "    </tr>\n",
       "    <tr>\n",
       "      <th>1</th>\n",
       "      <td>57</td>\n",
       "      <td>services</td>\n",
       "      <td>married</td>\n",
       "      <td>high.school</td>\n",
       "      <td>unknown</td>\n",
       "      <td>no</td>\n",
       "      <td>no</td>\n",
       "      <td>telephone</td>\n",
       "      <td>may</td>\n",
       "      <td>mon</td>\n",
       "      <td>...</td>\n",
       "      <td>1</td>\n",
       "      <td>999</td>\n",
       "      <td>0</td>\n",
       "      <td>nonexistent</td>\n",
       "      <td>1.1</td>\n",
       "      <td>93.994</td>\n",
       "      <td>-36.4</td>\n",
       "      <td>4.857</td>\n",
       "      <td>5191.0</td>\n",
       "      <td>no</td>\n",
       "    </tr>\n",
       "    <tr>\n",
       "      <th>2</th>\n",
       "      <td>37</td>\n",
       "      <td>services</td>\n",
       "      <td>married</td>\n",
       "      <td>high.school</td>\n",
       "      <td>no</td>\n",
       "      <td>yes</td>\n",
       "      <td>no</td>\n",
       "      <td>telephone</td>\n",
       "      <td>may</td>\n",
       "      <td>mon</td>\n",
       "      <td>...</td>\n",
       "      <td>1</td>\n",
       "      <td>999</td>\n",
       "      <td>0</td>\n",
       "      <td>nonexistent</td>\n",
       "      <td>1.1</td>\n",
       "      <td>93.994</td>\n",
       "      <td>-36.4</td>\n",
       "      <td>4.857</td>\n",
       "      <td>5191.0</td>\n",
       "      <td>no</td>\n",
       "    </tr>\n",
       "    <tr>\n",
       "      <th>3</th>\n",
       "      <td>40</td>\n",
       "      <td>admin.</td>\n",
       "      <td>married</td>\n",
       "      <td>basic.6y</td>\n",
       "      <td>no</td>\n",
       "      <td>no</td>\n",
       "      <td>no</td>\n",
       "      <td>telephone</td>\n",
       "      <td>may</td>\n",
       "      <td>mon</td>\n",
       "      <td>...</td>\n",
       "      <td>1</td>\n",
       "      <td>999</td>\n",
       "      <td>0</td>\n",
       "      <td>nonexistent</td>\n",
       "      <td>1.1</td>\n",
       "      <td>93.994</td>\n",
       "      <td>-36.4</td>\n",
       "      <td>4.857</td>\n",
       "      <td>5191.0</td>\n",
       "      <td>no</td>\n",
       "    </tr>\n",
       "    <tr>\n",
       "      <th>4</th>\n",
       "      <td>56</td>\n",
       "      <td>services</td>\n",
       "      <td>married</td>\n",
       "      <td>high.school</td>\n",
       "      <td>no</td>\n",
       "      <td>no</td>\n",
       "      <td>yes</td>\n",
       "      <td>telephone</td>\n",
       "      <td>may</td>\n",
       "      <td>mon</td>\n",
       "      <td>...</td>\n",
       "      <td>1</td>\n",
       "      <td>999</td>\n",
       "      <td>0</td>\n",
       "      <td>nonexistent</td>\n",
       "      <td>1.1</td>\n",
       "      <td>93.994</td>\n",
       "      <td>-36.4</td>\n",
       "      <td>4.857</td>\n",
       "      <td>5191.0</td>\n",
       "      <td>no</td>\n",
       "    </tr>\n",
       "  </tbody>\n",
       "</table>\n",
       "<p>5 rows × 21 columns</p>\n",
       "</div>"
      ],
      "text/plain": [
       "   age        job  marital    education  default housing loan    contact  \\\n",
       "0   56  housemaid  married     basic.4y       no      no   no  telephone   \n",
       "1   57   services  married  high.school  unknown      no   no  telephone   \n",
       "2   37   services  married  high.school       no     yes   no  telephone   \n",
       "3   40     admin.  married     basic.6y       no      no   no  telephone   \n",
       "4   56   services  married  high.school       no      no  yes  telephone   \n",
       "\n",
       "  month day_of_week ...  campaign  pdays  previous     poutcome emp.var.rate  \\\n",
       "0   may         mon ...         1    999         0  nonexistent          1.1   \n",
       "1   may         mon ...         1    999         0  nonexistent          1.1   \n",
       "2   may         mon ...         1    999         0  nonexistent          1.1   \n",
       "3   may         mon ...         1    999         0  nonexistent          1.1   \n",
       "4   may         mon ...         1    999         0  nonexistent          1.1   \n",
       "\n",
       "   cons.price.idx  cons.conf.idx  euribor3m  nr.employed   y  \n",
       "0          93.994          -36.4      4.857       5191.0  no  \n",
       "1          93.994          -36.4      4.857       5191.0  no  \n",
       "2          93.994          -36.4      4.857       5191.0  no  \n",
       "3          93.994          -36.4      4.857       5191.0  no  \n",
       "4          93.994          -36.4      4.857       5191.0  no  \n",
       "\n",
       "[5 rows x 21 columns]"
      ]
     },
     "execution_count": 4,
     "metadata": {},
     "output_type": "execute_result"
    }
   ],
   "source": [
    "bank.head()"
   ]
  },
  {
   "cell_type": "code",
   "execution_count": 5,
   "metadata": {},
   "outputs": [
    {
     "name": "stdout",
     "output_type": "stream",
     "text": [
      "<class 'pandas.core.frame.DataFrame'>\n",
      "RangeIndex: 41188 entries, 0 to 41187\n",
      "Data columns (total 21 columns):\n",
      "age               41188 non-null int64\n",
      "job               41188 non-null object\n",
      "marital           41188 non-null object\n",
      "education         41188 non-null object\n",
      "default           41188 non-null object\n",
      "housing           41188 non-null object\n",
      "loan              41188 non-null object\n",
      "contact           41188 non-null object\n",
      "month             41188 non-null object\n",
      "day_of_week       41188 non-null object\n",
      "duration          41188 non-null int64\n",
      "campaign          41188 non-null int64\n",
      "pdays             41188 non-null int64\n",
      "previous          41188 non-null int64\n",
      "poutcome          41188 non-null object\n",
      "emp.var.rate      41188 non-null float64\n",
      "cons.price.idx    41188 non-null float64\n",
      "cons.conf.idx     41188 non-null float64\n",
      "euribor3m         41188 non-null float64\n",
      "nr.employed       41188 non-null float64\n",
      "y                 41188 non-null object\n",
      "dtypes: float64(5), int64(5), object(11)\n",
      "memory usage: 6.6+ MB\n"
     ]
    }
   ],
   "source": [
    "bank.info()"
   ]
  },
  {
   "cell_type": "code",
   "execution_count": 6,
   "metadata": {},
   "outputs": [
    {
     "data": {
      "text/plain": [
       "age               0\n",
       "job               0\n",
       "marital           0\n",
       "education         0\n",
       "default           0\n",
       "housing           0\n",
       "loan              0\n",
       "contact           0\n",
       "month             0\n",
       "day_of_week       0\n",
       "duration          0\n",
       "campaign          0\n",
       "pdays             0\n",
       "previous          0\n",
       "poutcome          0\n",
       "emp.var.rate      0\n",
       "cons.price.idx    0\n",
       "cons.conf.idx     0\n",
       "euribor3m         0\n",
       "nr.employed       0\n",
       "y                 0\n",
       "dtype: int64"
      ]
     },
     "execution_count": 6,
     "metadata": {},
     "output_type": "execute_result"
    }
   ],
   "source": [
    "bank.isnull().sum(axis=0)"
   ]
  },
  {
   "cell_type": "code",
   "execution_count": 7,
   "metadata": {
    "colab": {
     "autoexec": {
      "startup": false,
      "wait_interval": 0
     }
    },
    "colab_type": "code",
    "id": "vjW7MhEJucSQ"
   },
   "outputs": [],
   "source": [
    "def split_num_obj(df):\n",
    "    df_num = df.select_dtypes(exclude=object)\n",
    "    df_obj = df.select_dtypes(include=object)\n",
    "    return df_num,df_obj"
   ]
  },
  {
   "cell_type": "code",
   "execution_count": 8,
   "metadata": {
    "colab": {
     "autoexec": {
      "startup": false,
      "wait_interval": 0
     }
    },
    "colab_type": "code",
    "id": "8mOAftO3t6rP"
   },
   "outputs": [],
   "source": [
    "def convert_to_cat(df):\n",
    "    for col in df.columns:\n",
    "        if col != 'education':\n",
    "            df.loc[:,col] = df[col].astype('category', ordered=False)\n",
    "    return df"
   ]
  },
  {
   "cell_type": "code",
   "execution_count": 9,
   "metadata": {
    "colab": {
     "autoexec": {
      "startup": false,
      "wait_interval": 0
     }
    },
    "colab_type": "code",
    "id": "SpWqVhxzusoj"
   },
   "outputs": [],
   "source": [
    "def cnv_to_num(df):\n",
    "    for col in df.columns:\n",
    "        df.loc[:,col] = df[col].cat.codes\n",
    "    return df"
   ]
  },
  {
   "cell_type": "code",
   "execution_count": 10,
   "metadata": {
    "colab": {
     "autoexec": {
      "startup": false,
      "wait_interval": 0
     },
     "base_uri": "https://localhost:8080/",
     "height": 386
    },
    "colab_type": "code",
    "executionInfo": {
     "elapsed": 2150,
     "status": "ok",
     "timestamp": 1531651036358,
     "user": {
      "displayName": "kishan enjapuri",
      "photoUrl": "//lh4.googleusercontent.com/-QTlgslCeK2w/AAAAAAAAAAI/AAAAAAAAAW0/KS42kBZD8dU/s50-c-k-no/photo.jpg",
      "userId": "114831316977350553243"
     },
     "user_tz": -330
    },
    "id": "2pBiEN7wrxIl",
    "outputId": "f284d883-8c34-4da9-9530-d057bb009341"
   },
   "outputs": [
    {
     "name": "stderr",
     "output_type": "stream",
     "text": [
      "/Users/utkarshbharadwaj/anaconda3/lib/python3.6/site-packages/ipykernel_launcher.py:4: FutureWarning: specifying 'categories' or 'ordered' in .astype() is deprecated; pass a CategoricalDtype instead\n",
      "  after removing the cwd from sys.path.\n",
      "/Users/utkarshbharadwaj/anaconda3/lib/python3.6/site-packages/pandas/core/indexing.py:630: SettingWithCopyWarning: \n",
      "A value is trying to be set on a copy of a slice from a DataFrame.\n",
      "Try using .loc[row_indexer,col_indexer] = value instead\n",
      "\n",
      "See the caveats in the documentation: http://pandas.pydata.org/pandas-docs/stable/indexing.html#indexing-view-versus-copy\n",
      "  self.obj[item_labels[indexer[info_axis]]] = value\n",
      "/Users/utkarshbharadwaj/anaconda3/lib/python3.6/site-packages/pandas/core/indexing.py:543: SettingWithCopyWarning: \n",
      "A value is trying to be set on a copy of a slice from a DataFrame.\n",
      "Try using .loc[row_indexer,col_indexer] = value instead\n",
      "\n",
      "See the caveats in the documentation: http://pandas.pydata.org/pandas-docs/stable/indexing.html#indexing-view-versus-copy\n",
      "  self.obj[item] = s\n",
      "/Users/utkarshbharadwaj/anaconda3/lib/python3.6/site-packages/ipykernel_launcher.py:5: FutureWarning: specifying 'categories' or 'ordered' in .astype() is deprecated; pass a CategoricalDtype instead\n",
      "  \"\"\"\n",
      "/Users/utkarshbharadwaj/anaconda3/lib/python3.6/site-packages/ipykernel_launcher.py:5: SettingWithCopyWarning: \n",
      "A value is trying to be set on a copy of a slice from a DataFrame.\n",
      "Try using .loc[row_indexer,col_indexer] = value instead\n",
      "\n",
      "See the caveats in the documentation: http://pandas.pydata.org/pandas-docs/stable/indexing.html#indexing-view-versus-copy\n",
      "  \"\"\"\n"
     ]
    }
   ],
   "source": [
    "bank_num, bank_obj = split_num_obj(bank)\n",
    "bank_cat = convert_to_cat(bank_obj)\n",
    "bank_cat[\"education\"] = bank_cat[\"education\"].astype(\"category\",\n",
    "                categories=[\"unknown\", \"primary\", \"secondary\",\"tertiary\"], \n",
    "                ordered=True)\n",
    "bank_cat = cnv_to_num(bank_cat)\n",
    "bank[bank_cat.columns] = bank_cat"
   ]
  },
  {
   "cell_type": "code",
   "execution_count": 11,
   "metadata": {
    "colab": {
     "autoexec": {
      "startup": false,
      "wait_interval": 0
     }
    },
    "colab_type": "code",
    "id": "e1ct4EeQvDNf"
   },
   "outputs": [],
   "source": [
    "bank[bank_cat.columns] = bank_cat"
   ]
  },
  {
   "cell_type": "code",
   "execution_count": 12,
   "metadata": {
    "colab": {
     "autoexec": {
      "startup": false,
      "wait_interval": 0
     },
     "base_uri": "https://localhost:8080/",
     "height": 386
    },
    "colab_type": "code",
    "executionInfo": {
     "elapsed": 683,
     "status": "ok",
     "timestamp": 1531651040059,
     "user": {
      "displayName": "kishan enjapuri",
      "photoUrl": "//lh4.googleusercontent.com/-QTlgslCeK2w/AAAAAAAAAAI/AAAAAAAAAW0/KS42kBZD8dU/s50-c-k-no/photo.jpg",
      "userId": "114831316977350553243"
     },
     "user_tz": -330
    },
    "id": "861KET4XvLVT",
    "outputId": "2abaf8a8-e78d-4676-b18e-40010d159746"
   },
   "outputs": [
    {
     "data": {
      "text/plain": [
       "age                 int64\n",
       "job                  int8\n",
       "marital              int8\n",
       "education            int8\n",
       "default              int8\n",
       "housing              int8\n",
       "loan                 int8\n",
       "contact              int8\n",
       "month                int8\n",
       "day_of_week          int8\n",
       "duration            int64\n",
       "campaign            int64\n",
       "pdays               int64\n",
       "previous            int64\n",
       "poutcome             int8\n",
       "emp.var.rate      float64\n",
       "cons.price.idx    float64\n",
       "cons.conf.idx     float64\n",
       "euribor3m         float64\n",
       "nr.employed       float64\n",
       "y                    int8\n",
       "dtype: object"
      ]
     },
     "execution_count": 12,
     "metadata": {},
     "output_type": "execute_result"
    }
   ],
   "source": [
    "bank.dtypes"
   ]
  },
  {
   "cell_type": "code",
   "execution_count": 13,
   "metadata": {
    "colab": {
     "autoexec": {
      "startup": false,
      "wait_interval": 0
     },
     "base_uri": "https://localhost:8080/",
     "height": 414
    },
    "colab_type": "code",
    "executionInfo": {
     "elapsed": 1465,
     "status": "ok",
     "timestamp": 1531651042314,
     "user": {
      "displayName": "kishan enjapuri",
      "photoUrl": "//lh4.googleusercontent.com/-QTlgslCeK2w/AAAAAAAAAAI/AAAAAAAAAW0/KS42kBZD8dU/s50-c-k-no/photo.jpg",
      "userId": "114831316977350553243"
     },
     "user_tz": -330
    },
    "id": "UuTWuoWxR27u",
    "outputId": "fdf37ac8-88c5-4a79-ab9f-51ab5229c05c"
   },
   "outputs": [
    {
     "data": {
      "text/plain": [
       "<matplotlib.axes._subplots.AxesSubplot at 0x1c0c462d68>"
      ]
     },
     "execution_count": 13,
     "metadata": {},
     "output_type": "execute_result"
    },
    {
     "data": {
      "image/png": "[encoded data removed]",
      "text/plain": [
       "<Figure size 432x288 with 2 Axes>"
      ]
     },
     "metadata": {},
     "output_type": "display_data"
    }
   ],
   "source": [
    "import seaborn as sns\n",
    "sns.heatmap(bank.corr())"
   ]
  },
  {
   "cell_type": "code",
   "execution_count": 14,
   "metadata": {
    "colab": {
     "autoexec": {
      "startup": false,
      "wait_interval": 0
     },
     "base_uri": "https://localhost:8080/",
     "height": 2198
    },
    "colab_type": "code",
    "executionInfo": {
     "elapsed": 2752,
     "status": "ok",
     "timestamp": 1531651111741,
     "user": {
      "displayName": "kishan enjapuri",
      "photoUrl": "//lh4.googleusercontent.com/-QTlgslCeK2w/AAAAAAAAAAI/AAAAAAAAAW0/KS42kBZD8dU/s50-c-k-no/photo.jpg",
      "userId": "114831316977350553243"
     },
     "user_tz": -330
    },
    "id": "_W2xAD90b-Od",
    "outputId": "4ac8358a-bbda-4138-ddc0-edecf62f9838"
   },
   "outputs": [
    {
     "data": {
      "image/png": "[encoded data removed]",
      "text/plain": [
       "<Figure size 720x2160 with 11 Axes>"
      ]
     },
     "metadata": {},
     "output_type": "display_data"
    }
   ],
   "source": [
    "import matplotlib.pyplot as plt\n",
    "fig = plt.figure(figsize=(10,30))\n",
    "\n",
    "for i, col in enumerate(bank_cat.columns):  \n",
    "\n",
    "    plt.subplot(6, 2, i+1)  \n",
    "    sns.countplot(x=col,  data=bank)\\\n",
    "         .set(xlabel=col, ylabel='Percent')    \n",
    "    plt.tight_layout()\n",
    "\n",
    "plt.show()\n",
    "\n",
    "plt.clf()\n",
    "plt.close('all')"
   ]
  },
  {
   "cell_type": "code",
   "execution_count": 15,
   "metadata": {
    "colab": {
     "autoexec": {
      "startup": false,
      "wait_interval": 0
     }
    },
    "colab_type": "code",
    "id": "eXuxxq7DL3bL"
   },
   "outputs": [],
   "source": [
    "X_train, X_test, y_train, y_test = train_test_split(bank.drop('y',axis=1), \n",
    "                                                    bank.y, random_state=42, test_size=0.25)"
   ]
  },
  {
   "cell_type": "code",
   "execution_count": 16,
   "metadata": {
    "colab": {
     "autoexec": {
      "startup": false,
      "wait_interval": 0
     },
     "base_uri": "https://localhost:8080/",
     "height": 437
    },
    "colab_type": "code",
    "executionInfo": {
     "elapsed": 691,
     "status": "ok",
     "timestamp": 1531651126273,
     "user": {
      "displayName": "kishan enjapuri",
      "photoUrl": "//lh4.googleusercontent.com/-QTlgslCeK2w/AAAAAAAAAAI/AAAAAAAAAW0/KS42kBZD8dU/s50-c-k-no/photo.jpg",
      "userId": "114831316977350553243"
     },
     "user_tz": -330
    },
    "id": "n7b_Aqy1Nqmc",
    "outputId": "c5b05c95-588e-45a0-9093-bd3387f000c2"
   },
   "outputs": [
    {
     "name": "stdout",
     "output_type": "stream",
     "text": [
      "<class 'pandas.core.frame.DataFrame'>\n",
      "Int64Index: 10297 entries, 32884 to 1937\n",
      "Data columns (total 20 columns):\n",
      "age               10297 non-null int64\n",
      "job               10297 non-null int8\n",
      "marital           10297 non-null int8\n",
      "education         10297 non-null int8\n",
      "default           10297 non-null int8\n",
      "housing           10297 non-null int8\n",
      "loan              10297 non-null int8\n",
      "contact           10297 non-null int8\n",
      "month             10297 non-null int8\n",
      "day_of_week       10297 non-null int8\n",
      "duration          10297 non-null int64\n",
      "campaign          10297 non-null int64\n",
      "pdays             10297 non-null int64\n",
      "previous          10297 non-null int64\n",
      "poutcome          10297 non-null int8\n",
      "emp.var.rate      10297 non-null float64\n",
      "cons.price.idx    10297 non-null float64\n",
      "cons.conf.idx     10297 non-null float64\n",
      "euribor3m         10297 non-null float64\n",
      "nr.employed       10297 non-null float64\n",
      "dtypes: float64(5), int64(5), int8(10)\n",
      "memory usage: 985.5 KB\n"
     ]
    }
   ],
   "source": [
    "X_test.info()"
   ]
  },
  {
   "cell_type": "code",
   "execution_count": 17,
   "metadata": {
    "colab": {
     "autoexec": {
      "startup": false,
      "wait_interval": 0
     },
     "base_uri": "https://localhost:8080/",
     "height": 226
    },
    "colab_type": "code",
    "executionInfo": {
     "elapsed": 3619,
     "status": "ok",
     "timestamp": 1531644794252,
     "user": {
      "displayName": "Utkarsh Bharadwaj",
      "photoUrl": "//lh5.googleusercontent.com/-Hv3xzD7MJLA/AAAAAAAAAAI/AAAAAAAAAFQ/z5Zuvnzl7To/s50-c-k-no/photo.jpg",
      "userId": "100383107238522707491"
     },
     "user_tz": -330
    },
    "id": "9jgDIzTkJKRB",
    "outputId": "7e8f78ad-bd13-4c0c-957a-be81cc654bc0"
   },
   "outputs": [
    {
     "name": "stdout",
     "output_type": "stream",
     "text": [
      "Requirement already satisfied: imblearn in /Users/utkarshbharadwaj/anaconda3/lib/python3.6/site-packages (0.0)\n",
      "Requirement already satisfied: imbalanced-learn in /Users/utkarshbharadwaj/anaconda3/lib/python3.6/site-packages (from imblearn) (0.4.2)\n",
      "Requirement already satisfied: scikit-learn>=0.20 in /Users/utkarshbharadwaj/anaconda3/lib/python3.6/site-packages (from imbalanced-learn->imblearn) (0.20.0)\n",
      "Requirement already satisfied: scipy>=0.13.3 in /Users/utkarshbharadwaj/anaconda3/lib/python3.6/site-packages (from imbalanced-learn->imblearn) (1.1.0)\n",
      "Requirement already satisfied: numpy>=1.8.2 in /Users/utkarshbharadwaj/anaconda3/lib/python3.6/site-packages (from imbalanced-learn->imblearn) (1.14.3)\n"
     ]
    }
   ],
   "source": [
    "!pip install imblearn"
   ]
  },
  {
   "cell_type": "code",
   "execution_count": 18,
   "metadata": {
    "colab": {
     "autoexec": {
      "startup": false,
      "wait_interval": 0
     },
     "base_uri": "https://localhost:8080/",
     "height": 130
    },
    "colab_type": "code",
    "executionInfo": {
     "elapsed": 1147,
     "status": "ok",
     "timestamp": 1531651457068,
     "user": {
      "displayName": "Utkarsh Bharadwaj",
      "photoUrl": "//lh5.googleusercontent.com/-Hv3xzD7MJLA/AAAAAAAAAAI/AAAAAAAAAFQ/z5Zuvnzl7To/s50-c-k-no/photo.jpg",
      "userId": "100383107238522707491"
     },
     "user_tz": -330
    },
    "id": "vOB9CKSvOGGz",
    "outputId": "897d1674-a32c-4b98-8982-fc95173c13d2"
   },
   "outputs": [
    {
     "name": "stderr",
     "output_type": "stream",
     "text": [
      "/Users/utkarshbharadwaj/anaconda3/lib/python3.6/site-packages/sklearn/ensemble/forest.py:248: FutureWarning: The default value of n_estimators will change from 10 in version 0.20 to 100 in 0.22.\n",
      "  \"10 in version 0.20 to 100 in 0.22.\", FutureWarning)\n"
     ]
    },
    {
     "name": "stdout",
     "output_type": "stream",
     "text": [
      "Accuracy Score for Test: 0.8605419054093425\n",
      "Recall for test: 0.9019947961838681\n",
      "Confusion matrix: \n",
      "[[7821 1323]\n",
      " [ 113 1040]]\n",
      "Area under the curve: 0.8786548784068948\n"
     ]
    }
   ],
   "source": [
    "from imblearn.under_sampling import RandomUnderSampler \n",
    "from sklearn.ensemble import RandomForestClassifier\n",
    "\n",
    "rus = RandomUnderSampler(return_indices= True)\n",
    "X_res, y_res, idx_res = rus.fit_sample(X_train, y_train)\n",
    "\n",
    "model = RandomForestClassifier(n_jobs=-1)\n",
    "model.fit(X_res, y_res)\n",
    "\n",
    "model.score(X_res, y_res)\n",
    "y_pred = model.predict(X_test)\n",
    "\n",
    "print(f'Accuracy Score for Test: {accuracy_score(y_test,y_pred)}')\n",
    "print(f'Recall for test: {recall_score(y_test, y_pred)}')\n",
    "\n",
    "print(f'Confusion matrix: \\n{confusion_matrix(y_test,y_pred)}')\n",
    "print(f'Area under the curve: {roc_auc_score(y_test, y_pred)}')"
   ]
  },
  {
   "cell_type": "code",
   "execution_count": 21,
   "metadata": {
    "colab": {
     "autoexec": {
      "startup": false,
      "wait_interval": 0
     },
     "base_uri": "https://localhost:8080/",
     "height": 529
    },
    "colab_type": "code",
    "executionInfo": {
     "elapsed": 797,
     "status": "ok",
     "timestamp": 1531651303711,
     "user": {
      "displayName": "kishan enjapuri",
      "photoUrl": "//lh4.googleusercontent.com/-QTlgslCeK2w/AAAAAAAAAAI/AAAAAAAAAW0/KS42kBZD8dU/s50-c-k-no/photo.jpg",
      "userId": "114831316977350553243"
     },
     "user_tz": -330
    },
    "id": "9WaidRNehcvb",
    "outputId": "5241c1bb-2fab-4cc3-8630-11c8c8e8379d"
   },
   "outputs": [
    {
     "data": {
      "image/png": "[encoded data removed]",
      "text/plain": [
       "<Figure size 792x576 with 1 Axes>"
      ]
     },
     "metadata": {},
     "output_type": "display_data"
    },
    {
     "data": {
      "text/plain": [
       "<ggplot: (7544612956)>"
      ]
     },
     "execution_count": 21,
     "metadata": {},
     "output_type": "execute_result"
    }
   ],
   "source": [
    "from sklearn import metrics\n",
    "import pandas as pd\n",
    "from ggplot import *\n",
    "\n",
    "\n",
    "preds = model.predict_proba(X_test)[:,1]\n",
    "fpr, tpr, _ = metrics.roc_curve(y_test, preds)\n",
    "\n",
    "df = pd.DataFrame(dict(fpr=fpr, tpr=tpr))\n",
    "ggplot(df, aes(x='fpr', y='tpr')) +\\\n",
    "geom_line() +\\\n",
    "geom_abline(linetype='dashed')"
   ]
  },
  {
   "cell_type": "markdown",
   "metadata": {
    "colab_type": "text",
    "id": "LM15yu_elxzi"
   },
   "source": []
  }
 ],
 "metadata": {
  "colab": {
   "collapsed_sections": [],
   "default_view": {},
   "name": "Campaign.ipynb",
   "provenance": [],
   "version": "0.3.2",
   "views": {}
  },
  "kernelspec": {
   "display_name": "Python 3",
   "language": "python",
   "name": "python3"
  },
  "language_info": {
   "codemirror_mode": {
    "name": "ipython",
    "version": 3
   },
   "file_extension": ".py",
   "mimetype": "text/x-python",
   "name": "python",
   "nbconvert_exporter": "python",
   "pygments_lexer": "ipython3",
   "version": "3.6.5"
  }
 },
 "nbformat": 4,
 "nbformat_minor": 1
}
